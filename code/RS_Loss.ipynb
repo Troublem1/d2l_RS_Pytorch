{
 "cells": [
  {
   "cell_type": "markdown",
   "metadata": {},
   "source": [
    "# RS Loss"
   ]
  },
  {
   "cell_type": "markdown",
   "metadata": {},
   "source": [
    "### 1. BPR Loss (Bayesian Personalized Ranking Loss)\n",
    "\n",
    "BPR的目标函数为：\n",
    "\n",
    "$$\\max \\quad p(\\Theta \\vert >_u) \\qquad \\Rightarrow \\qquad \\max \\quad p( >_u \\vert \\Theta)p(\\Theta)$$\n",
    "\n",
    "因此：\n",
    "\n",
    "$$\\begin{align} BPR-OPT &= \\ln(p(\\Theta \\vert >_u)) \\\\\n",
    "&= \\ln(p( >_u \\vert \\Theta)p(\\Theta))  \\\\\n",
    "& = \\ln( \\prod _{u,i,j\\in D}{ \\sigma(\\hat y_{ui} - \\hat y_{uj})p(\\Theta) ) }\\\\\n",
    "& = \\sum _{u,i,j\\in D} \\ln(\\sigma(\\hat y_{ui} - \\hat y_{uj})) + \\ln(p(\\Theta))\n",
    "\\end{align}$$"
   ]
  },
  {
   "cell_type": "code",
   "execution_count": 31,
   "metadata": {
    "collapsed": true
   },
   "outputs": [],
   "source": [
    "import torch\n",
    "import torch.nn as nn\n",
    "\n",
    "class BPRLoss(nn.Module):\n",
    "    \n",
    "    def __init__(self):\n",
    "        super(BPRLoss, self).__init__()\n",
    "    \n",
    "    def forward(self, positive, negative):\n",
    "        return -(torch.log(torch.sigmoid(positive - negative))).sum()\n",
    "\n",
    "loss_func = BPRLoss()"
   ]
  }
 ],
 "metadata": {
  "anaconda-cloud": {},
  "kernelspec": {
   "display_name": "Python [conda env:Anaconda3]",
   "language": "python",
   "name": "conda-env-Anaconda3-py"
  },
  "language_info": {
   "codemirror_mode": {
    "name": "ipython",
    "version": 3
   },
   "file_extension": ".py",
   "mimetype": "text/x-python",
   "name": "python",
   "nbconvert_exporter": "python",
   "pygments_lexer": "ipython3",
   "version": "3.5.6"
  }
 },
 "nbformat": 4,
 "nbformat_minor": 1
}
