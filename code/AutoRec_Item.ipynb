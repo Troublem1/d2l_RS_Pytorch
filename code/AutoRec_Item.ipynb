{
 "cells": [
  {
   "cell_type": "markdown",
   "metadata": {},
   "source": [
    "## AutoRec"
   ]
  },
  {
   "cell_type": "markdown",
   "metadata": {},
   "source": [
    "目标函数：\n",
    "\n",
    "\n",
    "$$arg \\min_{W,V,\\mu,b} \\sum_{i=1}^{M} \\Vert R_{*i}-h(R_{*i})\\Vert _{O}^{2}+\\lambda (\\Vert W\\Vert _{F}^{2}+\\Vert V \\Vert ^{2}_{F})$$\n",
    "\n",
    "$$h(R_{*i}) = f(W\\cdot g(VR_{*i}+\\mu)+b)$$"
   ]
  },
  {
   "cell_type": "markdown",
   "metadata": {},
   "source": [
    "损失函数：\n",
    "\n",
    "\n",
    "$$RMSE = \\sqrt{\\frac{1}{N} \\sum_{i=1}^{N} (y_i - \\hat y_i)^{2}}$$"
   ]
  },
  {
   "cell_type": "code",
   "execution_count": 1,
   "metadata": {
    "collapsed": true
   },
   "outputs": [],
   "source": [
    "import numpy as np\n",
    "import pandas as pd\n",
    "import torch\n",
    "import torch.nn as nn\n",
    "import torch.nn.functional as F\n",
    "import torch.utils.data as Data\n",
    "from sklearn.model_selection import train_test_split"
   ]
  },
  {
   "cell_type": "code",
   "execution_count": 2,
   "metadata": {
    "collapsed": true
   },
   "outputs": [],
   "source": [
    "path = '../data/ml-100k/u.data'\n",
    "BATCH_SIZE = 512"
   ]
  },
  {
   "cell_type": "code",
   "execution_count": 3,
   "metadata": {
    "collapsed": true
   },
   "outputs": [],
   "source": [
    "data = pd.read_csv(path,sep='\\t',header=None,names=['user_id', 'item_id', 'rating', 'timestamp'] )"
   ]
  },
  {
   "cell_type": "code",
   "execution_count": 4,
   "metadata": {},
   "outputs": [
    {
     "data": {
      "text/html": [
       "<div>\n",
       "<style scoped>\n",
       "    .dataframe tbody tr th:only-of-type {\n",
       "        vertical-align: middle;\n",
       "    }\n",
       "\n",
       "    .dataframe tbody tr th {\n",
       "        vertical-align: top;\n",
       "    }\n",
       "\n",
       "    .dataframe thead th {\n",
       "        text-align: right;\n",
       "    }\n",
       "</style>\n",
       "<table border=\"1\" class=\"dataframe\">\n",
       "  <thead>\n",
       "    <tr style=\"text-align: right;\">\n",
       "      <th></th>\n",
       "      <th>user_id</th>\n",
       "      <th>item_id</th>\n",
       "      <th>rating</th>\n",
       "      <th>timestamp</th>\n",
       "    </tr>\n",
       "  </thead>\n",
       "  <tbody>\n",
       "    <tr>\n",
       "      <th>0</th>\n",
       "      <td>196</td>\n",
       "      <td>242</td>\n",
       "      <td>3</td>\n",
       "      <td>881250949</td>\n",
       "    </tr>\n",
       "    <tr>\n",
       "      <th>1</th>\n",
       "      <td>186</td>\n",
       "      <td>302</td>\n",
       "      <td>3</td>\n",
       "      <td>891717742</td>\n",
       "    </tr>\n",
       "    <tr>\n",
       "      <th>2</th>\n",
       "      <td>22</td>\n",
       "      <td>377</td>\n",
       "      <td>1</td>\n",
       "      <td>878887116</td>\n",
       "    </tr>\n",
       "    <tr>\n",
       "      <th>3</th>\n",
       "      <td>244</td>\n",
       "      <td>51</td>\n",
       "      <td>2</td>\n",
       "      <td>880606923</td>\n",
       "    </tr>\n",
       "    <tr>\n",
       "      <th>4</th>\n",
       "      <td>166</td>\n",
       "      <td>346</td>\n",
       "      <td>1</td>\n",
       "      <td>886397596</td>\n",
       "    </tr>\n",
       "  </tbody>\n",
       "</table>\n",
       "</div>"
      ],
      "text/plain": [
       "   user_id  item_id  rating  timestamp\n",
       "0      196      242       3  881250949\n",
       "1      186      302       3  891717742\n",
       "2       22      377       1  878887116\n",
       "3      244       51       2  880606923\n",
       "4      166      346       1  886397596"
      ]
     },
     "execution_count": 4,
     "metadata": {},
     "output_type": "execute_result"
    }
   ],
   "source": [
    "data.head()"
   ]
  },
  {
   "cell_type": "code",
   "execution_count": 5,
   "metadata": {
    "collapsed": true
   },
   "outputs": [],
   "source": [
    "num_users = data.user_id.unique().shape[0]+1\n",
    "num_items = data.item_id.unique().shape[0]+1\n",
    "num_factors=500"
   ]
  },
  {
   "cell_type": "code",
   "execution_count": 6,
   "metadata": {
    "collapsed": true
   },
   "outputs": [],
   "source": [
    "X_train, X_test, y_train, y_test = train_test_split(data[['user_id', 'item_id']].values, data['rating'].values, test_size=0.1, random_state=2020)"
   ]
  },
  {
   "cell_type": "code",
   "execution_count": 7,
   "metadata": {
    "collapsed": true
   },
   "outputs": [],
   "source": [
    "train_data=np.zeros((num_items, num_users))\n",
    "\n",
    "for i, X in enumerate(X_train):\n",
    "    train_data[X[1]][X[0]] = y_train[i]"
   ]
  },
  {
   "cell_type": "code",
   "execution_count": 8,
   "metadata": {
    "collapsed": true
   },
   "outputs": [],
   "source": [
    "test_data = []\n",
    "for i, X in enumerate(X_test):\n",
    "    test_data.append(train_data[X[1]].tolist())\n",
    "test = torch.tensor(test_data,dtype=torch.float32)\n",
    "test_user = X_test[:,0]"
   ]
  },
  {
   "cell_type": "code",
   "execution_count": 9,
   "metadata": {
    "collapsed": true
   },
   "outputs": [],
   "source": [
    "train = torch.tensor(train_data,dtype=torch.float32)"
   ]
  },
  {
   "cell_type": "code",
   "execution_count": 10,
   "metadata": {
    "collapsed": true
   },
   "outputs": [],
   "source": [
    "train_loader = Data.DataLoader(\n",
    "    dataset = Data.TensorDataset(train),\n",
    "    batch_size = BATCH_SIZE,\n",
    "    shuffle=True,\n",
    ")"
   ]
  },
  {
   "cell_type": "code",
   "execution_count": 11,
   "metadata": {
    "collapsed": true
   },
   "outputs": [],
   "source": [
    "class AutoRec(nn.Module):\n",
    "    def __init__(self,num_hidden, num_users):\n",
    "        super(AutoRec,self).__init__()\n",
    "        self.encoder = nn.Linear(in_features=num_users, out_features=num_hidden, bias=True)\n",
    "        self.dropout = nn.Dropout(p=0.05)\n",
    "        self.decoder = nn.Linear(in_features=num_hidden, out_features=num_users, bias=True)\n",
    "        \n",
    "    def forward(self, data):\n",
    "        hidden = torch.sigmoid(self.encoder(data))\n",
    "        output = self.decoder(self.dropout(hidden))\n",
    "        return output*data.sign()\n",
    "    \n",
    "    def predict(self, data):\n",
    "        hidden = torch.sigmoid(self.encoder(data))\n",
    "        output = self.decoder(self.dropout(hidden))\n",
    "        return output"
   ]
  },
  {
   "cell_type": "code",
   "execution_count": 12,
   "metadata": {
    "collapsed": true
   },
   "outputs": [],
   "source": [
    "def RMSE(y, y_):\n",
    "    loss = ((y-y_)**2).sum()\n",
    "    loss = loss/(len(y))\n",
    "    return loss**0.5\n",
    "\n",
    "def evaluator(user, predicts, y) :\n",
    "    y_ = np.zeros(len(y))\n",
    "    for i,(u) in enumerate(user):\n",
    "        y_[i] = predicts[i][u]\n",
    "    return RMSE(y, y_)"
   ]
  },
  {
   "cell_type": "code",
   "execution_count": 13,
   "metadata": {
    "collapsed": true
   },
   "outputs": [],
   "source": [
    "model = AutoRec(num_hidden=num_factors, num_users=num_users)"
   ]
  },
  {
   "cell_type": "code",
   "execution_count": 14,
   "metadata": {
    "collapsed": true
   },
   "outputs": [],
   "source": [
    "optimizer = torch.optim.Adam(model.parameters(), lr=0.002, weight_decay=1e-5)\n",
    "loss_func = nn.MSELoss()"
   ]
  },
  {
   "cell_type": "code",
   "execution_count": 15,
   "metadata": {},
   "outputs": [
    {
     "name": "stdout",
     "output_type": "stream",
     "text": [
      "Epoch : 0|train_loss : 0.7790|test_loss : 3.1863\n",
      "Epoch : 1|train_loss : 0.1041|test_loss : 1.1528\n",
      "Epoch : 2|train_loss : 0.1567|test_loss : 1.6770\n",
      "Epoch : 3|train_loss : 0.0945|test_loss : 1.1796\n",
      "Epoch : 4|train_loss : 0.0684|test_loss : 1.1399\n",
      "Epoch : 5|train_loss : 0.0678|test_loss : 1.1464\n",
      "Epoch : 6|train_loss : 0.0615|test_loss : 1.0459\n",
      "Epoch : 7|train_loss : 0.0617|test_loss : 1.0382\n",
      "Epoch : 8|train_loss : 0.0598|test_loss : 1.0193\n",
      "Epoch : 9|train_loss : 0.0515|test_loss : 0.9946\n",
      "Epoch : 10|train_loss : 0.0542|test_loss : 0.9941\n",
      "Epoch : 11|train_loss : 0.0541|test_loss : 0.9758\n",
      "Epoch : 12|train_loss : 0.0483|test_loss : 0.9664\n",
      "Epoch : 13|train_loss : 0.0477|test_loss : 0.9597\n",
      "Epoch : 14|train_loss : 0.0524|test_loss : 0.9548\n",
      "Epoch : 15|train_loss : 0.0484|test_loss : 0.9534\n",
      "Epoch : 16|train_loss : 0.0437|test_loss : 0.9485\n",
      "Epoch : 17|train_loss : 0.0476|test_loss : 0.9438\n",
      "Epoch : 18|train_loss : 0.0441|test_loss : 0.9398\n",
      "Epoch : 19|train_loss : 0.0409|test_loss : 0.9401\n",
      "Epoch : 20|train_loss : 0.0424|test_loss : 0.9354\n",
      "Epoch : 21|train_loss : 0.0419|test_loss : 0.9336\n",
      "Epoch : 22|train_loss : 0.0468|test_loss : 0.9288\n",
      "Epoch : 23|train_loss : 0.0463|test_loss : 0.9288\n",
      "Epoch : 24|train_loss : 0.0433|test_loss : 0.9234\n"
     ]
    }
   ],
   "source": [
    "for epoch in range(25) :\n",
    "    for step, data in enumerate(train_loader) :\n",
    "        output=model(data[0])\n",
    "        train_loss = loss_func(output, data[0])\n",
    "        optimizer.zero_grad()\n",
    "        train_loss.backward()\n",
    "        optimizer.step()\n",
    "        if step % 300 == 0 :\n",
    "            output=model.predict(test)\n",
    "            print('Epoch : {}|train_loss : {:.4f}|test_loss : {:.4f}'.format(epoch, train_loss.item(), evaluator(test_user, output.detach().numpy(), y_test)))"
   ]
  },
  {
   "cell_type": "code",
   "execution_count": null,
   "metadata": {
    "collapsed": true
   },
   "outputs": [],
   "source": []
  }
 ],
 "metadata": {
  "anaconda-cloud": {},
  "kernelspec": {
   "display_name": "Python [conda env:Anaconda3]",
   "language": "python",
   "name": "conda-env-Anaconda3-py"
  },
  "language_info": {
   "codemirror_mode": {
    "name": "ipython",
    "version": 3
   },
   "file_extension": ".py",
   "mimetype": "text/x-python",
   "name": "python",
   "nbconvert_exporter": "python",
   "pygments_lexer": "ipython3",
   "version": "3.5.6"
  }
 },
 "nbformat": 4,
 "nbformat_minor": 1
}
