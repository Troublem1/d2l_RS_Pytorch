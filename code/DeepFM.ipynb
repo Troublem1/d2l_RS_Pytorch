{
 "cells": [
  {
   "cell_type": "markdown",
   "metadata": {},
   "source": [
    "# DeepFM\n",
    "\n",
    "\n"
   ]
  },
  {
   "cell_type": "markdown",
   "metadata": {},
   "source": [
    "DeepFM model:FM + DNN\n",
    "\n",
    "<img src=\"../data/img/DeepFM_model.png\" height=\"600\" width=\"600\" style=\"float:left\" >\n",
    "\n",
    "\n"
   ]
  },
  {
   "cell_type": "code",
   "execution_count": 1,
   "metadata": {
    "collapsed": true
   },
   "outputs": [],
   "source": [
    "import numpy as np\n",
    "import pandas as pd\n",
    "import torch\n",
    "import torch.nn as nn\n",
    "import torch.utils.data as Data\n",
    "from sklearn.model_selection import train_test_split"
   ]
  },
  {
   "cell_type": "code",
   "execution_count": 7,
   "metadata": {
    "collapsed": true
   },
   "outputs": [],
   "source": [
    "class DeepFM(nn.Module):\n",
    "    \n",
    "    def __init__(self, input_size, num_factors, dims, num_layers):\n",
    "        super(DeepFM, self).__init__()\n",
    "        self.V = nn.Embedding(num_embeddings=input_size, embedding_dim=num_factors)\n",
    "        self.X = nn.Embedding(num_embeddings=input_size, embedding_dim=1)\n",
    "        self.linear = nn.Linear(in_features=1, out_features=1, bias=True)\n",
    "        self.input_dim = dim*num_factors\n",
    "        self.mlp = nn.Sequential()\n",
    "        for i in range(num_layers-1):\n",
    "            self.mlp.add_module('layer'+str(i+1),nn.Linear(self.input_dim, self.input_dim))\n",
    "            self.mlp.add_module('relu'+str(i+1),nn.ReLU())\n",
    "        self.mlp.add_module('layer'+str(num_layers),nn.Linear(self.input_dim,1))\n",
    "        \n",
    "    def forward(self, x):\n",
    "        v = self.V(x)\n",
    "        fm_output = self.linear(0.5*((v.sum(dim=1))**2 - (v**2).sum(dim=1)).sum(dim=1, keepdim=True) + self.X(x).sum(dim=1))\n",
    "        nn_input = v.reshape(-1, self.input_dim)\n",
    "        nn_output = self.mlp(nn_input)\n",
    "        y = torch.sigmoid(fm_output+nn_output)\n",
    "        return y "
   ]
  },
  {
   "cell_type": "code",
   "execution_count": 11,
   "metadata": {
    "collapsed": true
   },
   "outputs": [],
   "source": [
    "input_size = 10000\n",
    "num_factors = 10\n",
    "dims=2\n",
    "num_layers = 3"
   ]
  },
  {
   "cell_type": "code",
   "execution_count": 12,
   "metadata": {},
   "outputs": [],
   "source": [
    "model = DeepFM(input_size, num_factors, dims, num_layers)"
   ]
  },
  {
   "cell_type": "code",
   "execution_count": 13,
   "metadata": {},
   "outputs": [
    {
     "name": "stdout",
     "output_type": "stream",
     "text": [
      "DeepFM(\n",
      "  (V): Embedding(10000, 10)\n",
      "  (X): Embedding(10000, 1)\n",
      "  (linear): Linear(in_features=1, out_features=1, bias=True)\n",
      "  (mlp): Sequential(\n",
      "    (layer1): Linear(in_features=20, out_features=20, bias=True)\n",
      "    (relu1): ReLU()\n",
      "    (layer2): Linear(in_features=20, out_features=20, bias=True)\n",
      "    (relu2): ReLU()\n",
      "    (layer3): Linear(in_features=20, out_features=1, bias=True)\n",
      "  )\n",
      ")\n"
     ]
    }
   ],
   "source": [
    "print(model)"
   ]
  }
 ],
 "metadata": {
  "anaconda-cloud": {},
  "kernelspec": {
   "display_name": "Python [conda env:Anaconda3]",
   "language": "python",
   "name": "conda-env-Anaconda3-py"
  },
  "language_info": {
   "codemirror_mode": {
    "name": "ipython",
    "version": 3
   },
   "file_extension": ".py",
   "mimetype": "text/x-python",
   "name": "python",
   "nbconvert_exporter": "python",
   "pygments_lexer": "ipython3",
   "version": "3.5.6"
  }
 },
 "nbformat": 4,
 "nbformat_minor": 1
}
