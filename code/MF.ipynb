{
 "cells": [
  {
   "cell_type": "markdown",
   "metadata": {},
   "source": [
    "## 矩阵分解"
   ]
  },
  {
   "cell_type": "markdown",
   "metadata": {},
   "source": [
    "目标函数：\n",
    "\n",
    "\n",
    "$$arg \\min _{P,Q,b} \\sum_{u,i}\\Vert R_{ui} - \\hat R_{ui} \\Vert ^2 + \\lambda (\\Vert P \\Vert ^{2} + \\Vert Q\\Vert ^2 + b_{u}^2 + b_{i} ^2)  $$\n",
    "\n",
    "$$P \\in R^{m \\times k},Q \\in R^{n \\times k},\\hat R_{ui} = p_{u}q_{i}^{T} + b_{u} + b_{i}$$"
   ]
  },
  {
   "cell_type": "markdown",
   "metadata": {},
   "source": [
    "评价指标：\n",
    "\n",
    "\n",
    "$$RMSE = \\sqrt{\\frac{1}{N} \\sum_{i=1}^{N} (y_i - \\hat y_i)^{2}}$$"
   ]
  },
  {
   "cell_type": "code",
   "execution_count": 2,
   "metadata": {
    "collapsed": true
   },
   "outputs": [],
   "source": [
    "import numpy as np\n",
    "import pandas as pd\n",
    "import torch\n",
    "import torch.nn as nn\n",
    "import torch.utils.data as Data\n",
    "from sklearn.model_selection import train_test_split"
   ]
  },
  {
   "cell_type": "code",
   "execution_count": 3,
   "metadata": {
    "collapsed": true
   },
   "outputs": [],
   "source": [
    "path = '../data/ml-100k/u.data'"
   ]
  },
  {
   "cell_type": "code",
   "execution_count": 4,
   "metadata": {
    "collapsed": true
   },
   "outputs": [],
   "source": [
    "BATCH_SIZE = 512"
   ]
  },
  {
   "cell_type": "code",
   "execution_count": 5,
   "metadata": {
    "collapsed": true
   },
   "outputs": [],
   "source": [
    "data = pd.read_csv(path,sep='\\t',header=None,names=['user_id', 'item_id', 'rating', 'timestamp'] )"
   ]
  },
  {
   "cell_type": "code",
   "execution_count": 6,
   "metadata": {
    "collapsed": true
   },
   "outputs": [],
   "source": [
    "num_users = data.user_id.unique().shape[0]+1\n",
    "num_items = data.item_id.unique().shape[0]+1\n",
    "num_factors=30"
   ]
  },
  {
   "cell_type": "code",
   "execution_count": 7,
   "metadata": {},
   "outputs": [
    {
     "data": {
      "text/plain": [
       "(944, 1683)"
      ]
     },
     "execution_count": 7,
     "metadata": {},
     "output_type": "execute_result"
    }
   ],
   "source": [
    "num_users,num_items"
   ]
  },
  {
   "cell_type": "code",
   "execution_count": 8,
   "metadata": {},
   "outputs": [
    {
     "data": {
      "text/plain": [
       "(943, 1682)"
      ]
     },
     "execution_count": 8,
     "metadata": {},
     "output_type": "execute_result"
    }
   ],
   "source": [
    "data.user_id.max(),data.item_id.max()"
   ]
  },
  {
   "cell_type": "code",
   "execution_count": 9,
   "metadata": {},
   "outputs": [
    {
     "data": {
      "text/html": [
       "<div>\n",
       "<style scoped>\n",
       "    .dataframe tbody tr th:only-of-type {\n",
       "        vertical-align: middle;\n",
       "    }\n",
       "\n",
       "    .dataframe tbody tr th {\n",
       "        vertical-align: top;\n",
       "    }\n",
       "\n",
       "    .dataframe thead th {\n",
       "        text-align: right;\n",
       "    }\n",
       "</style>\n",
       "<table border=\"1\" class=\"dataframe\">\n",
       "  <thead>\n",
       "    <tr style=\"text-align: right;\">\n",
       "      <th></th>\n",
       "      <th>user_id</th>\n",
       "      <th>item_id</th>\n",
       "      <th>rating</th>\n",
       "      <th>timestamp</th>\n",
       "    </tr>\n",
       "  </thead>\n",
       "  <tbody>\n",
       "    <tr>\n",
       "      <th>0</th>\n",
       "      <td>196</td>\n",
       "      <td>242</td>\n",
       "      <td>3</td>\n",
       "      <td>881250949</td>\n",
       "    </tr>\n",
       "    <tr>\n",
       "      <th>1</th>\n",
       "      <td>186</td>\n",
       "      <td>302</td>\n",
       "      <td>3</td>\n",
       "      <td>891717742</td>\n",
       "    </tr>\n",
       "    <tr>\n",
       "      <th>2</th>\n",
       "      <td>22</td>\n",
       "      <td>377</td>\n",
       "      <td>1</td>\n",
       "      <td>878887116</td>\n",
       "    </tr>\n",
       "    <tr>\n",
       "      <th>3</th>\n",
       "      <td>244</td>\n",
       "      <td>51</td>\n",
       "      <td>2</td>\n",
       "      <td>880606923</td>\n",
       "    </tr>\n",
       "    <tr>\n",
       "      <th>4</th>\n",
       "      <td>166</td>\n",
       "      <td>346</td>\n",
       "      <td>1</td>\n",
       "      <td>886397596</td>\n",
       "    </tr>\n",
       "  </tbody>\n",
       "</table>\n",
       "</div>"
      ],
      "text/plain": [
       "   user_id  item_id  rating  timestamp\n",
       "0      196      242       3  881250949\n",
       "1      186      302       3  891717742\n",
       "2       22      377       1  878887116\n",
       "3      244       51       2  880606923\n",
       "4      166      346       1  886397596"
      ]
     },
     "execution_count": 9,
     "metadata": {},
     "output_type": "execute_result"
    }
   ],
   "source": [
    "data.head(5)"
   ]
  },
  {
   "cell_type": "code",
   "execution_count": 10,
   "metadata": {
    "collapsed": true
   },
   "outputs": [],
   "source": [
    "X_train, X_test, y_train, y_test = train_test_split(data[['user_id', 'item_id']].values, data['rating'].values, test_size=0.1, random_state=2020)"
   ]
  },
  {
   "cell_type": "code",
   "execution_count": 11,
   "metadata": {
    "collapsed": true
   },
   "outputs": [],
   "source": [
    "X_train = torch.tensor(X_train,dtype=torch.long)\n",
    "y_train = torch.tensor(y_train, dtype=torch.float32)\n",
    "X_test = torch.tensor(X_test,dtype=torch.long)\n",
    "y_test = torch.tensor(y_test, dtype=torch.float32)"
   ]
  },
  {
   "cell_type": "code",
   "execution_count": 12,
   "metadata": {},
   "outputs": [
    {
     "data": {
      "text/plain": [
       "torch.Size([90000, 2])"
      ]
     },
     "execution_count": 12,
     "metadata": {},
     "output_type": "execute_result"
    }
   ],
   "source": [
    "X_train.shape"
   ]
  },
  {
   "cell_type": "code",
   "execution_count": 13,
   "metadata": {
    "collapsed": true
   },
   "outputs": [],
   "source": [
    "train_loader = Data.DataLoader(\n",
    "    dataset = Data.TensorDataset(X_train,y_train),\n",
    "    batch_size = BATCH_SIZE,\n",
    "    shuffle=True,\n",
    ")\n",
    "test_loader = Data.DataLoader(\n",
    "    dataset = Data.TensorDataset(X_test,y_test),\n",
    "    batch_size = BATCH_SIZE,\n",
    "    shuffle=True,\n",
    ")"
   ]
  },
  {
   "cell_type": "code",
   "execution_count": 14,
   "metadata": {
    "collapsed": true
   },
   "outputs": [],
   "source": [
    "class MF(nn.Module):\n",
    "    def __init__(self, num_factors, num_users, num_items):\n",
    "        super(MF, self).__init__()\n",
    "        self.P = nn.Embedding(num_embeddings=num_users, embedding_dim=num_factors)\n",
    "        self.Q = nn.Embedding(num_embeddings=num_items, embedding_dim=num_factors)\n",
    "        self.user_bias = nn.Embedding(num_users, 1)\n",
    "        self.item_bias = nn.Embedding(num_items, 1)\n",
    "        \n",
    "    def forward(self, data):\n",
    "        user_id, item_id = data[:,0], data[:,1]\n",
    "        P_u = self.P(user_id)\n",
    "        Q_i = self.Q(item_id)\n",
    "        b_u = self.user_bias(user_id)\n",
    "        b_i = self.item_bias(item_id)\n",
    "        outputs = ((P_u*Q_i).sum(dim=1)) + b_u.squeeze() + b_i.squeeze()\n",
    "        return outputs.flatten()"
   ]
  },
  {
   "cell_type": "code",
   "execution_count": 15,
   "metadata": {
    "collapsed": true
   },
   "outputs": [],
   "source": [
    "model = MF(num_factors=num_factors, num_users=num_users, num_items=num_items)"
   ]
  },
  {
   "cell_type": "code",
   "execution_count": 16,
   "metadata": {
    "collapsed": true
   },
   "outputs": [],
   "source": [
    "def RMSE(y, y_):\n",
    "    loss = ((y-y_)**2).sum()\n",
    "    loss = loss/len(y)\n",
    "    return loss**0.5"
   ]
  },
  {
   "cell_type": "code",
   "execution_count": 17,
   "metadata": {
    "collapsed": true
   },
   "outputs": [],
   "source": [
    "optimizer = torch.optim.Adam(model.parameters(), lr=0.02, weight_decay=0.0001)\n",
    "loss_func = RMSE"
   ]
  },
  {
   "cell_type": "code",
   "execution_count": 18,
   "metadata": {},
   "outputs": [
    {
     "name": "stdout",
     "output_type": "stream",
     "text": [
      "Epoch : 0|train_loss : 6.856884956359863| test_loss :6.66071081161499\n",
      "Epoch : 1|train_loss : 1.4677066802978516| test_loss :1.9263982772827148\n",
      "Epoch : 2|train_loss : 0.8249659538269043| test_loss :1.094244360923767\n",
      "Epoch : 3|train_loss : 0.8286493420600891| test_loss :1.0006293058395386\n",
      "Epoch : 4|train_loss : 0.7758222222328186| test_loss :0.9718416929244995\n",
      "Epoch : 5|train_loss : 0.7339785695075989| test_loss :0.9615576267242432\n",
      "Epoch : 6|train_loss : 0.7579453587532043| test_loss :0.9613692760467529\n",
      "Epoch : 7|train_loss : 0.7265439629554749| test_loss :0.9685827493667603\n",
      "Epoch : 8|train_loss : 0.6972488164901733| test_loss :0.9689694046974182\n",
      "Epoch : 9|train_loss : 0.7354786396026611| test_loss :0.9662456512451172\n",
      "Epoch : 10|train_loss : 0.6774872541427612| test_loss :0.9644127488136292\n",
      "Epoch : 11|train_loss : 0.7153388857841492| test_loss :0.9741464257240295\n",
      "Epoch : 12|train_loss : 0.6791142225265503| test_loss :0.9709009528160095\n",
      "Epoch : 13|train_loss : 0.6705185174942017| test_loss :0.9662081599235535\n",
      "Epoch : 14|train_loss : 0.6886106729507446| test_loss :0.9661409854888916\n",
      "Epoch : 15|train_loss : 0.6591895222663879| test_loss :0.9718403220176697\n",
      "Epoch : 16|train_loss : 0.7122893929481506| test_loss :0.9707260131835938\n",
      "Epoch : 17|train_loss : 0.6769112944602966| test_loss :0.9725490212440491\n",
      "Epoch : 18|train_loss : 0.6367099285125732| test_loss :0.9681934118270874\n",
      "Epoch : 19|train_loss : 0.6479743719100952| test_loss :0.9718319773674011\n",
      "Epoch : 20|train_loss : 0.6849711537361145| test_loss :0.9672693014144897\n",
      "Epoch : 21|train_loss : 0.6739095449447632| test_loss :0.9668382406234741\n",
      "Epoch : 22|train_loss : 0.6542695164680481| test_loss :0.9773029685020447\n",
      "Epoch : 23|train_loss : 0.6862366199493408| test_loss :0.9688560962677002\n",
      "Epoch : 24|train_loss : 0.7013229131698608| test_loss :0.9725133776664734\n",
      "Epoch : 25|train_loss : 0.668714702129364| test_loss :0.972312867641449\n",
      "Epoch : 26|train_loss : 0.7046623229980469| test_loss :0.9692421555519104\n",
      "Epoch : 27|train_loss : 0.6483970880508423| test_loss :0.9666805863380432\n",
      "Epoch : 28|train_loss : 0.6665785312652588| test_loss :0.9715281128883362\n",
      "Epoch : 29|train_loss : 0.6822998523712158| test_loss :0.9683069586753845\n"
     ]
    }
   ],
   "source": [
    "for epoch in range(30) :\n",
    "    for step, (tx, ty) in enumerate(train_loader) :\n",
    "        #print(tx.shape)\n",
    "        output=model(tx)\n",
    "        \n",
    "        train_loss = loss_func(output, ty)\n",
    "        optimizer.zero_grad()\n",
    "        train_loss.backward()\n",
    "        optimizer.step()\n",
    "        \n",
    "        if step % 300 == 0 :\n",
    "            with torch.no_grad(): \n",
    "                y = model(X_test)\n",
    "                test_loss = loss_func(y, y_test)\n",
    "                print('Epoch : {}|train_loss : {:.4f}| test_loss :{:.4f}'.format(epoch, train_loss.item(), test_loss.item()))"
   ]
  },
  {
   "cell_type": "code",
   "execution_count": 19,
   "metadata": {
    "collapsed": true
   },
   "outputs": [],
   "source": [
    "y = model(X_test)"
   ]
  },
  {
   "cell_type": "code",
   "execution_count": 20,
   "metadata": {},
   "outputs": [
    {
     "data": {
      "text/plain": [
       "tensor([4.2477, 2.3422, 4.7106,  ..., 3.8516, 3.5220, 3.1259],\n",
       "       grad_fn=<AddBackward0>)"
      ]
     },
     "execution_count": 20,
     "metadata": {},
     "output_type": "execute_result"
    }
   ],
   "source": [
    "y"
   ]
  },
  {
   "cell_type": "code",
   "execution_count": 21,
   "metadata": {},
   "outputs": [
    {
     "data": {
      "text/plain": [
       "tensor([5., 1., 3.,  ..., 5., 2., 2.])"
      ]
     },
     "execution_count": 21,
     "metadata": {},
     "output_type": "execute_result"
    }
   ],
   "source": [
    "y_test"
   ]
  },
  {
   "cell_type": "code",
   "execution_count": 22,
   "metadata": {
    "collapsed": true
   },
   "outputs": [],
   "source": [
    "#def weights_init(model):\n",
    "#    m_name = model.__class__.__name__\n",
    "#    if m_name.find('Embedding')!= -1 :\n",
    "#        model.weight.data.normal_(0.0,0.01)\n",
    "#model.apply(weights_init)"
   ]
  }
 ],
 "metadata": {
  "anaconda-cloud": {},
  "kernelspec": {
   "display_name": "Python [conda env:Anaconda3]",
   "language": "python",
   "name": "conda-env-Anaconda3-py"
  },
  "language_info": {
   "codemirror_mode": {
    "name": "ipython",
    "version": 3
   },
   "file_extension": ".py",
   "mimetype": "text/x-python",
   "name": "python",
   "nbconvert_exporter": "python",
   "pygments_lexer": "ipython3",
   "version": "3.5.6"
  }
 },
 "nbformat": 4,
 "nbformat_minor": 1
}
